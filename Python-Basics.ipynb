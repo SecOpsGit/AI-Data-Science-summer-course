{
 "cells": [
  {
   "cell_type": "markdown",
   "metadata": {},
   "source": [
    "<b>Python - Overview</b>"
   ]
  },
  {
   "cell_type": "markdown",
   "metadata": {},
   "source": [
    "Python is a high-level, interpreted, interactive and object-oriented scripting language."
   ]
  },
  {
   "cell_type": "markdown",
   "metadata": {},
   "source": [
    "Environment Setup:\n",
    "Using Anaconda or pip(package manager)"
   ]
  },
  {
   "cell_type": "code",
   "execution_count": 3,
   "metadata": {},
   "outputs": [
    {
     "name": "stdout",
     "output_type": "stream",
     "text": [
      "Hello, Python!\n"
     ]
    }
   ],
   "source": [
    "print(\"Hello, Python!\")"
   ]
  },
  {
   "cell_type": "markdown",
   "metadata": {},
   "source": [
    "<b>Python Identifiers</b><br>\n",
    "A Python identifier is a name used to identify a variable, function, class, module or other object.\n",
    "Python does not allow punctuation characters such as @, $, and % within identifiers."
   ]
  },
  {
   "cell_type": "markdown",
   "metadata": {},
   "source": [
    "<b>Lines and Indentation</b>"
   ]
  },
  {
   "cell_type": "markdown",
   "metadata": {},
   "source": [
    "<b>Quotation in Python</b><br>\n",
    "Python accepts single ('), double (\") and triple (''' or \"\"\") quotes to denote string literals"
   ]
  },
  {
   "cell_type": "markdown",
   "metadata": {},
   "source": [
    "<b>Comments in Python</b><br>"
   ]
  },
  {
   "cell_type": "code",
   "execution_count": 5,
   "metadata": {},
   "outputs": [],
   "source": [
    "# This is a comment."
   ]
  },
  {
   "cell_type": "code",
   "execution_count": 8,
   "metadata": {},
   "outputs": [
    {
     "name": "stdout",
     "output_type": "stream",
     "text": [
      "spam\n",
      "ham\n",
      "spam or ham\n",
      "<type 'int'>\n",
      "<type 'float'>\n",
      "<type 'str'>\n"
     ]
    }
   ],
   "source": [
    "#Assigning Values to Variables\n",
    "counter = 100          # An integer assignment\n",
    "miles   = 1000.0       # A floating point\n",
    "name    = \"John\"       # A string\n",
    "\n",
    "print(\"spam\")\n",
    "print(\"ham\")\n",
    "print(\"spam or ham\")\n",
    "print(type(counter))\n",
    "print(type(miles))\n",
    "print(type(name))"
   ]
  },
  {
   "cell_type": "code",
   "execution_count": 10,
   "metadata": {},
   "outputs": [
    {
     "name": "stdout",
     "output_type": "stream",
     "text": [
      "1\n",
      "2\n",
      "3\n"
     ]
    }
   ],
   "source": [
    "#Python Casting\n",
    "x = int(1)   # x will be 1\n",
    "y = int(2.8) # y will be 2\n",
    "z = int(\"3\") # z will be 3\n",
    "print(x)\n",
    "print(y)\n",
    "print(z)"
   ]
  },
  {
   "cell_type": "code",
   "execution_count": 11,
   "metadata": {},
   "outputs": [
    {
     "name": "stdout",
     "output_type": "stream",
     "text": [
      "p\n",
      "pa\n",
      "Spam\n",
      "5\n",
      " spam\n",
      " SPAM\n",
      "spam\n",
      "['computer', 'security']\n"
     ]
    }
   ],
   "source": [
    "#Strings\n",
    "a = \"spam\"\n",
    "print(a[1])\n",
    "print(a[1:3])\n",
    "a1 = \" Spam\"\n",
    "print(a1.strip())\n",
    "print(len(a1))\n",
    "print(a1.lower())\n",
    "print(a1.upper())\n",
    "print(a.replace(\"S\", \"J\"))\n",
    "a2=\"computer security\"\n",
    "print(a2.split(\" \"))\n",
    "\n"
   ]
  },
  {
   "cell_type": "code",
   "execution_count": 15,
   "metadata": {},
   "outputs": [
    {
     "name": "stdout",
     "output_type": "stream",
     "text": [
      "12\n",
      "8\n",
      "20\n",
      "5\n",
      "0\n",
      "100\n",
      "5\n"
     ]
    }
   ],
   "source": [
    "#Arithmetic Operators\n",
    "x= 10\n",
    "y = 2\n",
    "print(x + y)\n",
    "print(x - y)\n",
    "print(x * y)\n",
    "print(x / y)\n",
    "print(x % y)\n",
    "print(x ** y)\n",
    "print(x // y)\n",
    "\n"
   ]
  },
  {
   "cell_type": "code",
   "execution_count": 20,
   "metadata": {},
   "outputs": [
    {
     "name": "stdout",
     "output_type": "stream",
     "text": [
      "5\n",
      "8\n",
      "5\n",
      "15\n",
      "5\n",
      "2\n",
      "0\n",
      "0\n",
      "0\n",
      "3\n",
      "0\n",
      "0\n",
      "0\n"
     ]
    }
   ],
   "source": [
    "#Assignment Operators\n",
    "x = 5\n",
    "print(x)\n",
    "x = x + 3\n",
    "print(x)\n",
    "x = x - 3\n",
    "print(x)\n",
    "x = x * 3\n",
    "print(x)\n",
    "x = x / 3\n",
    "print(x)\n",
    "x = x % 3\n",
    "print(x)\n",
    "x = x // 3\n",
    "print(x)\n",
    "x = x ** 3\n",
    "print(x)\n",
    "x = x & 3\n",
    "print(x)\n",
    "x = x | 3\n",
    "print(x)\n",
    "x = x ^ 3\n",
    "print(x)\n",
    "x = x >> 3\n",
    "print(x)\n",
    "x = x << 3\n",
    "print(x)"
   ]
  },
  {
   "cell_type": "code",
   "execution_count": 25,
   "metadata": {},
   "outputs": [
    {
     "name": "stdout",
     "output_type": "stream",
     "text": [
      "False\n",
      "True\n",
      "True\n",
      "False\n",
      "True\n",
      "False\n",
      "True\n"
     ]
    }
   ],
   "source": [
    "#Comparison Operators\n",
    "print(x == y)\n",
    "print(x != y)\n",
    "print(x <> y)\n",
    "print(x > y)\n",
    "print(x < y)\n",
    "print(x >= y)\n",
    "print(x <= y)"
   ]
  },
  {
   "cell_type": "code",
   "execution_count": 27,
   "metadata": {},
   "outputs": [
    {
     "name": "stdout",
     "output_type": "stream",
     "text": [
      "True\n",
      "True\n",
      "False\n"
     ]
    }
   ],
   "source": [
    "#Logical Operators\n",
    "print(x < 5 and  x < 10)\n",
    "print(x < 5 or x < 4)\n",
    "print(not(x < 5 and x < 10))"
   ]
  },
  {
   "cell_type": "code",
   "execution_count": 28,
   "metadata": {},
   "outputs": [
    {
     "name": "stdout",
     "output_type": "stream",
     "text": [
      "['spam', 786, 2.23, 'malware', 70.2]\n",
      "spam\n",
      "[786, 2.23]\n",
      "[2.23, 'malware', 70.2]\n",
      "['spam', 786, 2.23, 'malware', 70.2, 'spam', 786, 2.23, 'malware', 70.2]\n",
      "['spam', 786, 2.23, 'malware', 70.2, 123, 'threat']\n"
     ]
    }
   ],
   "source": [
    "#Lists\n",
    "\n",
    "bot = [ 'spam', 786 , 2.23, 'malware', 70.2 ]\n",
    "net = [123, 'threat']\n",
    "\n",
    "print(bot)          # Prints complete list\n",
    "print(bot[0])       # Prints first element of the list\n",
    "print(bot[1:3])     # Prints elements starting from 2nd till 4th \n",
    "print(bot[2:])      # Prints elements starting from 3rd element\n",
    "print(bot * 2)  # Prints list two times\n",
    "print(bot + net) # Prints concatenated lists"
   ]
  },
  {
   "cell_type": "code",
   "execution_count": 29,
   "metadata": {},
   "outputs": [
    {
     "name": "stdout",
     "output_type": "stream",
     "text": [
      "('spam', 786, 2.23, 'malware', 70.2)\n",
      "spam\n",
      "(786, 2.23)\n",
      "(2.23, 'malware', 70.2)\n",
      "(123, 'threat', 123, 'threat')\n",
      "('spam', 786, 2.23, 'malware', 70.2, 123, 'threat')\n"
     ]
    }
   ],
   "source": [
    "#Tuples\n",
    "bot = ( 'spam', 786 , 2.23, 'malware', 70.2  )\n",
    "net = (123, 'threat')\n",
    "\n",
    "print(bot)           # Prints complete list\n",
    "print(bot[0])        # Prints first element of the list\n",
    "print(bot[1:3])      # Prints elements starting from 2nd till 3rd \n",
    "print(bot[2:])       # Prints elements starting from 3rd element\n",
    "print(net * 2)   # Prints list two times\n",
    "print(bot + net) # Prints concatenated lists"
   ]
  },
  {
   "cell_type": "code",
   "execution_count": 30,
   "metadata": {},
   "outputs": [
    {
     "name": "stdout",
     "output_type": "stream",
     "text": [
      "set(['banana', 'apple'])\n"
     ]
    }
   ],
   "source": [
    "#Set\n",
    "thisset = {\"apple\", \"banana\"}\n",
    "print(thisset)"
   ]
  },
  {
   "cell_type": "code",
   "execution_count": 31,
   "metadata": {},
   "outputs": [
    {
     "name": "stdout",
     "output_type": "stream",
     "text": [
      "This is malware\n",
      "This is legitimate\n",
      "{'dept': 'sales', 'code': 6734, 'name': 'john'}\n",
      "['dept', 'code', 'name']\n",
      "['sales', 6734, 'john']\n"
     ]
    }
   ],
   "source": [
    "#Dictionary\n",
    "dict = {}\n",
    "dict['one'] = \"This is malware\"\n",
    "dict[2]     = \"This is legitimate\"\n",
    "\n",
    "tinydict = {'name': 'john','code':6734, 'dept': 'sales'}\n",
    "\n",
    "print(dict['one'])      # Prints value for 'one' key\n",
    "print(dict[2])           # Prints value for 2 key\n",
    "print(tinydict)          # Prints complete dictionary\n",
    "print(tinydict.keys())   # Prints all the keys\n",
    "print(tinydict.values()) # Prints all the values"
   ]
  },
  {
   "cell_type": "code",
   "execution_count": 32,
   "metadata": {},
   "outputs": [
    {
     "name": "stdout",
     "output_type": "stream",
     "text": [
      "This is a malware\n",
      "Block it\n"
     ]
    }
   ],
   "source": [
    "# if statement\n",
    "var = 100\n",
    "if (var == 100 ) : print \"This is a malware\"\n",
    "print(\"Block it\")"
   ]
  },
  {
   "cell_type": "code",
   "execution_count": 52,
   "metadata": {},
   "outputs": [
    {
     "name": "stdout",
     "output_type": "stream",
     "text": [
      "1\n",
      "2\n",
      "3\n",
      "4\n",
      "5\n"
     ]
    }
   ],
   "source": [
    "# while loop\n",
    "i = 1\n",
    "while i < 6:\n",
    "  print(i)\n",
    "  i += 1"
   ]
  },
  {
   "cell_type": "code",
   "execution_count": 53,
   "metadata": {},
   "outputs": [
    {
     "name": "stdout",
     "output_type": "stream",
     "text": [
      "apple\n",
      "banana\n",
      "cherry\n"
     ]
    }
   ],
   "source": [
    "fruits = [\"apple\", \"banana\", \"cherry\"]\n",
    "for x in fruits:\n",
    "  print(x)"
   ]
  },
  {
   "cell_type": "code",
   "execution_count": 33,
   "metadata": {},
   "outputs": [
    {
     "name": "stdout",
     "output_type": "stream",
     "text": [
      "Number of ticks since 12:00am, January 1, 1970: 1527003377.24\n"
     ]
    }
   ],
   "source": [
    "#Date & Time\n",
    "import time;  # This is required to include time module.\n",
    "\n",
    "ticks = time.time()\n",
    "print \"Number of ticks since 12:00am, January 1, 1970:\", ticks"
   ]
  },
  {
   "cell_type": "code",
   "execution_count": 36,
   "metadata": {},
   "outputs": [
    {
     "name": "stdout",
     "output_type": "stream",
     "text": [
      "('Local current time :', time.struct_time(tm_year=2018, tm_mon=5, tm_mday=22, tm_hour=21, tm_min=7, tm_sec=1, tm_wday=1, tm_yday=142, tm_isdst=0))\n"
     ]
    }
   ],
   "source": [
    "#Getting current time\n",
    "import time;\n",
    "\n",
    "localtime = time.localtime(time.time())\n",
    "print(\"Local current time :\", localtime)"
   ]
  },
  {
   "cell_type": "code",
   "execution_count": 37,
   "metadata": {},
   "outputs": [
    {
     "name": "stdout",
     "output_type": "stream",
     "text": [
      "Here is the calendar:\n",
      "    January 2008\n",
      "Mo Tu We Th Fr Sa Su\n",
      "    1  2  3  4  5  6\n",
      " 7  8  9 10 11 12 13\n",
      "14 15 16 17 18 19 20\n",
      "21 22 23 24 25 26 27\n",
      "28 29 30 31\n",
      "\n"
     ]
    }
   ],
   "source": [
    "import calendar\n",
    "\n",
    "cal = calendar.month(2008, 1)\n",
    "print(\"Here is the calendar:\")\n",
    "print(cal)"
   ]
  },
  {
   "cell_type": "code",
   "execution_count": 38,
   "metadata": {},
   "outputs": [
    {
     "name": "stdout",
     "output_type": "stream",
     "text": [
      "malware\n",
      "None\n"
     ]
    }
   ],
   "source": [
    "#Function\n",
    "#A function is a block of organized, reusable code that is used to perform a single, related action. Functions provide better modularity for your application and a high degree of code reusing.\n",
    "def printme(str):\n",
    "   \"Bypassing antivirus\"\n",
    "   print(str)\n",
    "   return\n",
    "v = printme(\"malware\")\n",
    "print(v)"
   ]
  },
  {
   "cell_type": "code",
   "execution_count": 39,
   "metadata": {},
   "outputs": [
    {
     "name": "stdout",
     "output_type": "stream",
     "text": [
      "Enter your input: v\n",
      "('Received input is : ', 'v')\n"
     ]
    }
   ],
   "source": [
    "# Read line of text\n",
    "str = raw_input(\"Enter your input: \");\n",
    "print(\"Received input is : \", str)"
   ]
  },
  {
   "cell_type": "code",
   "execution_count": 49,
   "metadata": {},
   "outputs": [],
   "source": [
    "#Reading and Writing Files\n",
    "# Open a file\n",
    "fo = open(\"data.txt\", \"w\")\n",
    "fo.write(\"Python is a great language.\\nYeah its great!!\\n\");\n",
    "\n",
    "# Close opend file\n",
    "fo.close()"
   ]
  },
  {
   "cell_type": "code",
   "execution_count": 51,
   "metadata": {},
   "outputs": [
    {
     "name": "stdout",
     "output_type": "stream",
     "text": [
      "('Read String is : ', 'Python is a great language.\\nYeah its great!!\\n')\n"
     ]
    }
   ],
   "source": [
    "fo = open(\"data.txt\", \"r+\")\n",
    "str = fo.read();\n",
    "print(\"Read String is : \", str)\n",
    "# Close opend file\n",
    "fo.close()"
   ]
  },
  {
   "cell_type": "code",
   "execution_count": null,
   "metadata": {},
   "outputs": [],
   "source": []
  }
 ],
 "metadata": {
  "kernelspec": {
   "display_name": "Python 2",
   "language": "python",
   "name": "python2"
  },
  "language_info": {
   "codemirror_mode": {
    "name": "ipython",
    "version": 2
   },
   "file_extension": ".py",
   "mimetype": "text/x-python",
   "name": "python",
   "nbconvert_exporter": "python",
   "pygments_lexer": "ipython2",
   "version": "2.7.12"
  }
 },
 "nbformat": 4,
 "nbformat_minor": 2
}
